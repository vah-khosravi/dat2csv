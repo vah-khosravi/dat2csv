{
 "cells": [
  {
   "cell_type": "markdown",
   "id": "81e50d20-a1f9-421e-bc86-a20568d203d0",
   "metadata": {},
   "source": [
    "Make sure you're running the notebook from the folder containing the .asd files and the scripts.\n",
    "Use !ls or !dir to list files in the current directory to double-check."
   ]
  },
  {
   "cell_type": "code",
   "execution_count": null,
   "id": "e044ddac-307a-462d-89b1-75ab205f7907",
   "metadata": {},
   "outputs": [],
   "source": [
    "# Convert a single .asd file\n",
    "# Replace with your actual file name\n",
    "!python asd2csv.py Spectrum00001.asd Spectrum00001.csv"
   ]
  },
  {
   "cell_type": "code",
   "execution_count": null,
   "id": "50f70ef7-de38-4a7a-b210-616f97820da4",
   "metadata": {},
   "outputs": [],
   "source": [
    "# Batch convert all .asd files in the current folder into .csv.\n",
    "!python batch_convert.py"
   ]
  },
  {
   "cell_type": "code",
   "execution_count": null,
   "id": "0ba1328c-5ef1-4f12-b574-02451307e1c1",
   "metadata": {},
   "outputs": [],
   "source": [
    "# Merge all converted .csv files to a new file called merged_spectra.csv.\n",
    "!python merge_spectra.py"
   ]
  }
 ],
 "metadata": {
  "kernelspec": {
   "display_name": "Python 3 (ipykernel)",
   "language": "python",
   "name": "python3"
  },
  "language_info": {
   "codemirror_mode": {
    "name": "ipython",
    "version": 3
   },
   "file_extension": ".py",
   "mimetype": "text/x-python",
   "name": "python",
   "nbconvert_exporter": "python",
   "pygments_lexer": "ipython3",
   "version": "3.13.5"
  }
 },
 "nbformat": 4,
 "nbformat_minor": 5
}
